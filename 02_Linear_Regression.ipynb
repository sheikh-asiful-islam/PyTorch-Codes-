{
  "nbformat": 4,
  "nbformat_minor": 0,
  "metadata": {
    "colab": {
      "name": "02 Linear Regression.ipynb",
      "provenance": [],
      "authorship_tag": "ABX9TyMyRndzQlG+obB2OsVZrL6n",
      "include_colab_link": true
    },
    "kernelspec": {
      "name": "python3",
      "display_name": "Python 3"
    },
    "language_info": {
      "name": "python"
    }
  },
  "cells": [
    {
      "cell_type": "markdown",
      "metadata": {
        "id": "view-in-github",
        "colab_type": "text"
      },
      "source": [
        "<a href=\"https://colab.research.google.com/github/ABmaxplunck/PyTorch-Codes-/blob/main/02_Linear_Regression.ipynb\" target=\"_parent\"><img src=\"https://colab.research.google.com/assets/colab-badge.svg\" alt=\"Open In Colab\"/></a>"
      ]
    },
    {
      "cell_type": "markdown",
      "source": [
        "Linear Regression one of the foundational algorithm of machine learning.\n",
        "we will create a model that preducts crop yields for apples and oranges (target variables) by looking at the average temparature, rainfall and humidity (input variables or features) in a region.\n",
        "\n",
        "---\n",
        "NB: For finding documentation we can put a question mark then write the specific topic. as an example:\n",
        "\n",
        " ?nn.Linear\n",
        "\n"
      ],
      "metadata": {
        "id": "i_GxBm_DzNoL"
      }
    },
    {
      "cell_type": "code",
      "execution_count": 1,
      "metadata": {
        "id": "k9P4RmkynkWC"
      },
      "outputs": [],
      "source": [
        "import numpy as np\n",
        "import torch"
      ]
    },
    {
      "cell_type": "markdown",
      "source": [
        "### Training data\n",
        "The training data can be represented using 2 matrices: inputs and targets, each with one row per observation and one column per variable"
      ],
      "metadata": {
        "id": "kSaX6a9DsMdJ"
      }
    },
    {
      "cell_type": "code",
      "source": [
        "  # input(temp,rainfall,humidity)\n",
        "  \n",
        "inputs = np.array([[73,67,43],\n",
        "                      [91,88,64],\n",
        "                      [87,134,58],\n",
        "                      [102,13,37],\n",
        "                      [69,96,70]], dtype='float32')"
      ],
      "metadata": {
        "id": "7CvETz7orBuz"
      },
      "execution_count": 2,
      "outputs": []
    },
    {
      "cell_type": "code",
      "source": [
        "# Targets(apples, oranges)\n",
        "targets = np.array([[56,70],\n",
        "                    [81,101],\n",
        "                    [119,133],\n",
        "                    [22,37],\n",
        "                    [103,119]], dtype='float32')"
      ],
      "metadata": {
        "id": "IzVjgZjt3rBf"
      },
      "execution_count": 3,
      "outputs": []
    },
    {
      "cell_type": "markdown",
      "source": [
        "we've seperated the input and target variables, because we'll operate on them seperately. Also, we've created numpy arrays, because this is typically how you would work with training data:read some CSV files as numpy arrays, do some processing and then convert them to Pytorch tensors as follows:"
      ],
      "metadata": {
        "id": "FTCk4I0J49h2"
      }
    },
    {
      "cell_type": "code",
      "source": [
        "# convert input and targets to tensors \n",
        "inputs = torch.from_numpy(inputs)\n",
        "targets = torch.from_numpy(targets)\n",
        "print(inputs)\n",
        "print(targets)\n"
      ],
      "metadata": {
        "colab": {
          "base_uri": "https://localhost:8080/"
        },
        "id": "T2u1XvUW47NI",
        "outputId": "82e2c0ef-acc0-4b05-b5ae-a14f6ff75627"
      },
      "execution_count": 4,
      "outputs": [
        {
          "output_type": "stream",
          "name": "stdout",
          "text": [
            "tensor([[ 73.,  67.,  43.],\n",
            "        [ 91.,  88.,  64.],\n",
            "        [ 87., 134.,  58.],\n",
            "        [102.,  13.,  37.],\n",
            "        [ 69.,  96.,  70.]])\n",
            "tensor([[ 56.,  70.],\n",
            "        [ 81., 101.],\n",
            "        [119., 133.],\n",
            "        [ 22.,  37.],\n",
            "        [103., 119.]])\n"
          ]
        }
      ]
    },
    {
      "cell_type": "code",
      "source": [
        ""
      ],
      "metadata": {
        "id": "Zckva_Z-wJ77"
      },
      "execution_count": 4,
      "outputs": []
    },
    {
      "cell_type": "markdown",
      "source": [
        "### Linear regression model from scratch\n",
        "The weights and biases (w11, w12,...., w23, b1 & b2) cann also be represented as matrices, initialized as random values. The first row of w and the first element of b are used to predict the first target variable i.e: yield of apples and similarly the second for oranges."
      ],
      "metadata": {
        "id": "uwOQQn6F8xyf"
      }
    },
    {
      "cell_type": "code",
      "source": [
        "# weigts and biases \n",
        "\n",
        "w = torch.randn(2, 3, requires_grad=True) # it has 2 row and 3 col\n",
        "b = torch.randn(2, requires_grad=True) # it has 2 row  \n",
        "print(w)\n",
        "print(b)\n"
      ],
      "metadata": {
        "id": "m4qE1LqO8vco",
        "colab": {
          "base_uri": "https://localhost:8080/"
        },
        "outputId": "74a2768a-2fb8-4f15-ca71-69395ac8240f"
      },
      "execution_count": 5,
      "outputs": [
        {
          "output_type": "stream",
          "name": "stdout",
          "text": [
            "tensor([[ 0.5057, -0.0645, -0.2929],\n",
            "        [ 0.5822,  0.7899, -0.0221]], requires_grad=True)\n",
            "tensor([ 1.0267, -0.9920], requires_grad=True)\n"
          ]
        }
      ]
    },
    {
      "cell_type": "markdown",
      "source": [
        "we can define the model as follows:\n"
      ],
      "metadata": {
        "id": "W5KxxxkW1zme"
      }
    },
    {
      "cell_type": "code",
      "source": [
        "def model(x):\n",
        "  return x @ w.t() + b"
      ],
      "metadata": {
        "id": "IJuCZEyxyRk2"
      },
      "execution_count": 6,
      "outputs": []
    },
    {
      "cell_type": "markdown",
      "source": [
        "`@` represent the matrix multiplication in Pytorch and the `.t` method returns the transpose of a tensor\n",
        "\n",
        "The matrix obtained by passing the input data into the model is a set of predictions for the target variables"
      ],
      "metadata": {
        "id": "jG216-HL2QZS"
      }
    },
    {
      "cell_type": "code",
      "source": [
        "# Generate predictions\n",
        "preds = model(inputs)\n",
        "print(preds)\n"
      ],
      "metadata": {
        "colab": {
          "base_uri": "https://localhost:8080/"
        },
        "id": "vE8J8Y5K2YLU",
        "outputId": "5c207cfc-3b79-4fb3-fb54-bb87c92871b0"
      },
      "execution_count": 7,
      "outputs": [
        {
          "output_type": "stream",
          "name": "stdout",
          "text": [
            "tensor([[ 21.0301,  93.4803],\n",
            "        [ 22.6283, 120.0837],\n",
            "        [ 19.3969, 154.2236],\n",
            "        [ 40.9351,  67.8401],\n",
            "        [  9.2292, 113.4630]], grad_fn=<AddBackward0>)\n"
          ]
        }
      ]
    },
    {
      "cell_type": "markdown",
      "source": [
        "let's compare the predictions of our model with the actual targets"
      ],
      "metadata": {
        "id": "NgSRdipo9mNX"
      }
    },
    {
      "cell_type": "code",
      "source": [
        "# compare with targets \n",
        "print(targets)"
      ],
      "metadata": {
        "colab": {
          "base_uri": "https://localhost:8080/"
        },
        "id": "2M5mFW4D9ar_",
        "outputId": "83777691-9ac2-4e07-d260-3e62579d0876"
      },
      "execution_count": 8,
      "outputs": [
        {
          "output_type": "stream",
          "name": "stdout",
          "text": [
            "tensor([[ 56.,  70.],\n",
            "        [ 81., 101.],\n",
            "        [119., 133.],\n",
            "        [ 22.,  37.],\n",
            "        [103., 119.]])\n"
          ]
        }
      ]
    },
    {
      "cell_type": "markdown",
      "source": [
        "you can see that there's a huge differnce between the predictions of our model and the actual values of the target variables. Obviously this is because we've initialized our model with random weights and biases and we can't expect it to just work "
      ],
      "metadata": {
        "id": "hBFOAnUiAZfg"
      }
    },
    {
      "cell_type": "markdown",
      "source": [
        "### Loss Function\n",
        "Before we improve our model, we need a way to evaluate how well our model is performing. we can compare the model's precitions with the actual targets, using the following method:\n",
        "\n",
        "* calculate the difference between the two matrices (preds and targets)\n",
        "* square all elements of the difference matrix to remove negative values \n",
        "* calculate the average of the elements in the resulting matrix\n",
        "\n",
        "The result is a single number known as the `mean squared error (MSE)`"
      ],
      "metadata": {
        "id": "qpWi_sKwBASa"
      }
    },
    {
      "cell_type": "code",
      "source": [
        "\n",
        "diff = preds - targets\n",
        "diff_sqr = diff * diff # element wise multiplication \n",
        "torch.sum(diff_sqr) /  diff.numel()  # using .numel method to get the num of element "
      ],
      "metadata": {
        "colab": {
          "base_uri": "https://localhost:8080/"
        },
        "id": "54lJNz4g9v7B",
        "outputId": "3416dfb0-ee9d-443d-f029-bdd63c2de67c"
      },
      "execution_count": 9,
      "outputs": [
        {
          "output_type": "execute_result",
          "data": {
            "text/plain": [
              "tensor(2605.0142, grad_fn=<DivBackward0>)"
            ]
          },
          "metadata": {},
          "execution_count": 9
        }
      ]
    },
    {
      "cell_type": "code",
      "source": [
        "# MSE loss function\n",
        "\n",
        "def mse(t1,t2):\n",
        "  diff = t1 -t2\n",
        "  return torch.sum(diff * diff)/diff.numel()"
      ],
      "metadata": {
        "id": "IKb_laLqA_ew"
      },
      "execution_count": 10,
      "outputs": []
    },
    {
      "cell_type": "markdown",
      "source": [
        "`torch.sum` returns the sum of all the elements in a tensor and the `.numel` method returns the number of elements in a tensor. Let's compute the mean squared error for the current predictions of our model "
      ],
      "metadata": {
        "id": "8DYee4QRK5Bh"
      }
    },
    {
      "cell_type": "code",
      "source": [
        "# compute loss\n",
        "loss = mse(preds, targets)\n",
        "print(loss)\n",
        "\n"
      ],
      "metadata": {
        "colab": {
          "base_uri": "https://localhost:8080/"
        },
        "id": "JwMS_bw0LT59",
        "outputId": "546a613e-9c9f-4fe3-8447-cac8c0104ba4"
      },
      "execution_count": 11,
      "outputs": [
        {
          "output_type": "stream",
          "name": "stdout",
          "text": [
            "tensor(2605.0142, grad_fn=<DivBackward0>)\n"
          ]
        }
      ]
    },
    {
      "cell_type": "markdown",
      "source": [
        "here's how we can interpret the result: On average each element in the prediction differs from the actual target by about 138(square root of the loss 19044). And that's pretty bad, considerting the numbers we are trying to predict are themselves in the range 50-200. Also, the result is called the loss, because it indicates how bad the model is at preciting the target variables. Lower the loss better the model "
      ],
      "metadata": {
        "id": "AgbgGQVqMkeB"
      }
    },
    {
      "cell_type": "markdown",
      "source": [
        "### Compute gradients\n",
        "With PyTorch, we can automatically compute the gradient or derivative of the loss w.r.t to the weights and biases, because they have requires_grad set to True"
      ],
      "metadata": {
        "id": "UrZM8lezN8Z5"
      }
    },
    {
      "cell_type": "code",
      "source": [
        "# Compute gradients \n",
        "\n",
        "loss.backward()"
      ],
      "metadata": {
        "id": "f2fR4onLLcat"
      },
      "execution_count": 12,
      "outputs": []
    },
    {
      "cell_type": "markdown",
      "source": [
        "The gradients are stored in the `.grad` property of the respective tensors. Note that the derivative of the loss w.r.t the weights matrix is itself a matrix, with the same dimensions "
      ],
      "metadata": {
        "id": "_77VOmjuOlsg"
      }
    },
    {
      "cell_type": "code",
      "source": [
        "# Gradients for weights\n",
        "print(w)\n",
        "print(w.grad)"
      ],
      "metadata": {
        "colab": {
          "base_uri": "https://localhost:8080/"
        },
        "id": "5L9C5kGRvJrV",
        "outputId": "db99d38f-eb21-4b33-c8ba-a7b233777a5d"
      },
      "execution_count": 13,
      "outputs": [
        {
          "output_type": "stream",
          "name": "stdout",
          "text": [
            "tensor([[ 0.5057, -0.0645, -0.2929],\n",
            "        [ 0.5822,  0.7899, -0.0221]], requires_grad=True)\n",
            "tensor([[-4213.7803, -5916.4688, -3375.9663],\n",
            "        [ 1612.1534,  1193.1755,   843.0944]])\n"
          ]
        }
      ]
    },
    {
      "cell_type": "markdown",
      "source": [
        "`w` is a weight matrix or tensor.\n",
        "I have each corresponding weights and derivative of the loss\n",
        "\n",
        "from `print(w)` we get losses which are w11, w12 etc etc \n",
        "\n",
        "from `print(w.grad)` we get derivative of the loss element. these are d loss by dw11, this is d loss by dw12 etc etc "
      ],
      "metadata": {
        "id": "H4J4fWaJvj-l"
      }
    },
    {
      "cell_type": "code",
      "source": [
        "# For bias \n",
        "print(b)\n",
        "print(b.grad)"
      ],
      "metadata": {
        "colab": {
          "base_uri": "https://localhost:8080/"
        },
        "id": "Qx1wcmwxvTSH",
        "outputId": "cb648eea-4433-4e33-b5a2-540339933ca6"
      },
      "execution_count": 14,
      "outputs": [
        {
          "output_type": "stream",
          "name": "stdout",
          "text": [
            "tensor([ 1.0267, -0.9920], requires_grad=True)\n",
            "tensor([-53.5561,  17.8181])\n"
          ]
        }
      ]
    },
    {
      "cell_type": "markdown",
      "source": [
        "\n",
        "\n",
        "> Indented block\n",
        "\n",
        "\n",
        "The loss is a `quadratic function` of our weights and biases, and our objective is to find the set of weights where the loss is the lowest. If we plot a graph of the loss w.r.t any individual weight or bias element, it will look like figureshown below. A key insight from calculus is that the gradient indicates the rate of change of the loss, or the slope of the graph or loss function w.r.t the weights and biases\n",
        "\n",
        "If a gradient element is `positive` \n",
        "* increasing the element's value slightly will increase the loss\n",
        "\n",
        "* decreasing the element's value slightly will decrease the loss\n",
        "\n",
        "If the gradient element is `negative` \n",
        "* increasing the element's value slightly will decrease the loss\n",
        "\n",
        "* decreasing the element's value slightly will increase the loss\n",
        "\n",
        "\n",
        "\n",
        "Before we proceed we reset the gradients to zero by calling `.zero_()` method. we need to do this, because PyTorch accumulates gradients i.e: the next time we call `.backward` on the loss, the new gradient values will get added to the existing gradient values, which may lead to unexpected results "
      ],
      "metadata": {
        "id": "VLlHasdyzlnM"
      }
    },
    {
      "cell_type": "code",
      "source": [
        "\n",
        "w.grad.zero_()\n",
        "b.grad.zero_()\n",
        "print(w.grad)\n",
        "print(b.grad)"
      ],
      "metadata": {
        "colab": {
          "base_uri": "https://localhost:8080/"
        },
        "id": "evfZ28gfzh_U",
        "outputId": "bb9f4690-ac97-4ea0-83bb-b3cee2cf57ca"
      },
      "execution_count": 15,
      "outputs": [
        {
          "output_type": "stream",
          "name": "stdout",
          "text": [
            "tensor([[0., 0., 0.],\n",
            "        [0., 0., 0.]])\n",
            "tensor([0., 0.])\n"
          ]
        }
      ]
    },
    {
      "cell_type": "markdown",
      "source": [
        "### Adjust weights and biases using gradient descent\n",
        "we'll reduce the loss and improve our model using the gradient descent optimization algorithm, which has the follwing steps:\n",
        "1. Generate predictions\n",
        "2. Calculate the loss\n",
        "3. compute gradients w.r.t the weights and biases\n",
        "4. Adjust the weights by subtracting a small quantity proportional to the gradient \n",
        "5. Reset the gradients to zero"
      ],
      "metadata": {
        "id": "zpHnK02sIKiC"
      }
    },
    {
      "cell_type": "code",
      "source": [
        "# Generate predictions\n",
        "\n",
        "preds = model(inputs)\n",
        "print(preds)"
      ],
      "metadata": {
        "colab": {
          "base_uri": "https://localhost:8080/"
        },
        "id": "733ZYUnLGg3n",
        "outputId": "fbaac5f6-28d1-49ea-aff4-4c13288e26e7"
      },
      "execution_count": 16,
      "outputs": [
        {
          "output_type": "stream",
          "name": "stdout",
          "text": [
            "tensor([[ 21.0301,  93.4803],\n",
            "        [ 22.6283, 120.0837],\n",
            "        [ 19.3969, 154.2236],\n",
            "        [ 40.9351,  67.8401],\n",
            "        [  9.2292, 113.4630]], grad_fn=<AddBackward0>)\n"
          ]
        }
      ]
    },
    {
      "cell_type": "code",
      "source": [
        ""
      ],
      "metadata": {
        "id": "dEC1uaHwKu5w"
      },
      "execution_count": 16,
      "outputs": []
    },
    {
      "cell_type": "markdown",
      "source": [
        "note that the predictions are same as before, since we haven't made any changes to our model. the same hols true for the loss and gradients"
      ],
      "metadata": {
        "id": "2b3nOkDQJczn"
      }
    },
    {
      "cell_type": "code",
      "source": [
        "# calculate the loss\n",
        "\n",
        "loss = mse(preds, targets)\n",
        "print(loss)"
      ],
      "metadata": {
        "colab": {
          "base_uri": "https://localhost:8080/"
        },
        "id": "GY-rfuP5JY4F",
        "outputId": "f66d9673-50c3-4579-f8d5-42f5e1a6dda3"
      },
      "execution_count": 17,
      "outputs": [
        {
          "output_type": "stream",
          "name": "stdout",
          "text": [
            "tensor(2605.0142, grad_fn=<DivBackward0>)\n"
          ]
        }
      ]
    },
    {
      "cell_type": "code",
      "source": [
        "# compute gradients\n",
        "\n",
        "loss.backward()\n",
        "print(w.grad)\n",
        "print(b.grad)"
      ],
      "metadata": {
        "colab": {
          "base_uri": "https://localhost:8080/"
        },
        "id": "sYjXgrKAJy7l",
        "outputId": "23a55ced-a0f0-43e8-f579-25be144711c4"
      },
      "execution_count": 18,
      "outputs": [
        {
          "output_type": "stream",
          "name": "stdout",
          "text": [
            "tensor([[-4213.7803, -5916.4688, -3375.9663],\n",
            "        [ 1612.1534,  1193.1755,   843.0944]])\n",
            "tensor([-53.5561,  17.8181])\n"
          ]
        }
      ]
    },
    {
      "cell_type": "markdown",
      "source": [
        "finally we update the weights and  biases using the gradients computed above "
      ],
      "metadata": {
        "id": "bN-zuiZECrEa"
      }
    },
    {
      "cell_type": "code",
      "source": [
        "# adjust weights and reset gradients \n",
        "\n",
        "with torch.no_grad():  # torch.no_grad() is way of telling pytorch that hey I'm done with my gradient calculations now let me use the gradients  \n",
        "  w -= w.grad * 1e-5    # when I am running this operations don't track gradient related work \n",
        "  b -= b.grad * 1e-5\n",
        "  w.grad.zero_() # reset the gradient back to zero\n",
        "  b.grad.zero_()\n"
      ],
      "metadata": {
        "id": "S1SoUd8nK2rd"
      },
      "execution_count": 19,
      "outputs": []
    },
    {
      "cell_type": "markdown",
      "source": [
        "a few things to note above:\n",
        "* we use torch.no_grad to indicate PyTorch that we shouln't track, calculate or modify gradients while updating the weights and biases\n",
        "* we multiply the gradients with a really small number (10^-5 in this case), to ensure that we don't modify the weights by a really large amount, since we only want to takse a small step in the downhill direction of the gradient. This number is called the learning rate of the algorithm \n",
        "* after we have updated the weights, we reset the gradients back to zero to avoid affecting any future computations \n",
        "\n",
        "Let's take a look at the new weights and biases "
      ],
      "metadata": {
        "id": "CcHsUM6LDUgu"
      }
    },
    {
      "cell_type": "code",
      "source": [
        "print(w)\n",
        "print(b)"
      ],
      "metadata": {
        "colab": {
          "base_uri": "https://localhost:8080/"
        },
        "id": "R8Xuzp-pDWmZ",
        "outputId": "2ef4f676-3c5d-49a3-91f2-231cf38662c1"
      },
      "execution_count": 20,
      "outputs": [
        {
          "output_type": "stream",
          "name": "stdout",
          "text": [
            "tensor([[ 0.5479, -0.0053, -0.2591],\n",
            "        [ 0.5660,  0.7780, -0.0305]], requires_grad=True)\n",
            "tensor([ 1.0272, -0.9922], requires_grad=True)\n"
          ]
        }
      ]
    },
    {
      "cell_type": "markdown",
      "source": [
        "with the new weights and biases, the model should have lower loss"
      ],
      "metadata": {
        "id": "LTL9zaXEMlGh"
      }
    },
    {
      "cell_type": "code",
      "source": [
        "# calculate loss\n",
        "preds = model(inputs)\n",
        "loss = mse(preds, targets)\n",
        "print(loss)"
      ],
      "metadata": {
        "colab": {
          "base_uri": "https://localhost:8080/"
        },
        "id": "kmVeuWXmLL5u",
        "outputId": "90c24cf0-533d-4234-b53d-f9e7aeaec4df"
      },
      "execution_count": 21,
      "outputs": [
        {
          "output_type": "stream",
          "name": "stdout",
          "text": [
            "tensor(1974.1383, grad_fn=<DivBackward0>)\n"
          ]
        }
      ]
    },
    {
      "cell_type": "markdown",
      "source": [
        "we have already achieved a significant reduction in the loss, simply by adjusting the weights and biases slightly using gradient descent "
      ],
      "metadata": {
        "id": "6OXFohvMNsC1"
      }
    },
    {
      "cell_type": "markdown",
      "source": [
        "## Train for multiple epochs\n",
        "\n",
        "To reduce the loss further we can repeat the process of adjusting the weights and biases using the gradients multiple times. Each iteration is called an epoch. let's train the model for 100 epochs"
      ],
      "metadata": {
        "id": "DaNOWbtuN_QU"
      }
    },
    {
      "cell_type": "code",
      "source": [
        "# Train for 100 epochs\n",
        "\n",
        "for i in range (100):\n",
        "  preds = model(inputs) # get the predictions passing the inputs \n",
        "  loss = mse(preds, targets) # get the loss by passing the predctions and targets into the mse function\n",
        "  loss.backward() # calculcate the gradients \n",
        "  with torch.no_grad(): #telling pytorch hey stop tracking gradient for a sec\n",
        "    w -= w.grad * 1e-5 # here 1e-5 is learning rate which is called hyper parameter in ML\n",
        "    b -= b.grad * 1e-5\n",
        "    w.grad.zero_()\n",
        "    b.grad.zero_()\n"
      ],
      "metadata": {
        "id": "t9_tYaecNhrO"
      },
      "execution_count": 22,
      "outputs": []
    },
    {
      "cell_type": "markdown",
      "source": [
        "once again, let's verify that the loss is now lower:"
      ],
      "metadata": {
        "id": "_Sl2Z03RQFR3"
      }
    },
    {
      "cell_type": "code",
      "source": [
        "# calcualte lose\n",
        "preds = model(inputs)\n",
        "loss = mse(preds, targets)\n",
        "print(loss)\n"
      ],
      "metadata": {
        "colab": {
          "base_uri": "https://localhost:8080/"
        },
        "id": "TPl0PKnEQJhW",
        "outputId": "6007fe24-92c6-4c8d-8f9a-49acb180df3b"
      },
      "execution_count": 23,
      "outputs": [
        {
          "output_type": "stream",
          "name": "stdout",
          "text": [
            "tensor(134.6950, grad_fn=<DivBackward0>)\n"
          ]
        }
      ]
    },
    {
      "cell_type": "markdown",
      "source": [
        "As you can see, the loss is now much lower than what we started out with. Let's look at the model's predictions and compare them with the targets "
      ],
      "metadata": {
        "id": "-C-32SpM_CFS"
      }
    },
    {
      "cell_type": "code",
      "source": [
        "# precitions \n",
        "preds"
      ],
      "metadata": {
        "id": "g9SHmex3Qq9s",
        "colab": {
          "base_uri": "https://localhost:8080/"
        },
        "outputId": "3cca87b0-34cd-426f-ba58-c2afbc7c5d1a"
      },
      "execution_count": 24,
      "outputs": [
        {
          "output_type": "execute_result",
          "data": {
            "text/plain": [
              "tensor([[ 66.6836,  78.3816],\n",
              "        [ 85.2310, 101.5734],\n",
              "        [114.9975, 138.6160],\n",
              "        [ 40.3760,  43.0408],\n",
              "        [ 83.1045, 100.9231]], grad_fn=<AddBackward0>)"
            ]
          },
          "metadata": {},
          "execution_count": 24
        }
      ]
    },
    {
      "cell_type": "code",
      "source": [
        "# targets \n",
        "targets"
      ],
      "metadata": {
        "colab": {
          "base_uri": "https://localhost:8080/"
        },
        "id": "FX9sAQl9_66w",
        "outputId": "42cb356e-aa23-4e6a-f177-0888af2bc3ae"
      },
      "execution_count": 25,
      "outputs": [
        {
          "output_type": "execute_result",
          "data": {
            "text/plain": [
              "tensor([[ 56.,  70.],\n",
              "        [ 81., 101.],\n",
              "        [119., 133.],\n",
              "        [ 22.,  37.],\n",
              "        [103., 119.]])"
            ]
          },
          "metadata": {},
          "execution_count": 25
        }
      ]
    },
    {
      "cell_type": "markdown",
      "source": [
        "The prediction are now quite close to the target variables, and we can get even better results by training for a few more epochs.\n",
        "\n",
        "At this point, we can save our notebook and upload it to the git for future reference and sharing \n"
      ],
      "metadata": {
        "id": "PAhcanYvAPa2"
      }
    },
    {
      "cell_type": "markdown",
      "source": [
        "# Linear Regression using PyTorch built-ins\n",
        "The model and training process above were implemented using basic matrix operations. But since this such a common pattern, PyTorch has several built in functions and classes to make it easy to create and train models \n",
        "\n",
        "Let's begin by importing the `torch.nn` package from PyTorch, which contains utility classes for building neural networks "
      ],
      "metadata": {
        "id": "gQDXWPwSFGqy"
      }
    },
    {
      "cell_type": "code",
      "source": [
        "import torch.nn as nn"
      ],
      "metadata": {
        "id": "b9LDJDa0AIqi"
      },
      "execution_count": 26,
      "outputs": []
    },
    {
      "cell_type": "markdown",
      "source": [
        "as before we represent the inputs and targets and matrices "
      ],
      "metadata": {
        "id": "eZvELO6JGU7g"
      }
    },
    {
      "cell_type": "code",
      "source": [
        "# Input (temp, rainfall, humidity)\n",
        "\n",
        "# here 15 training examples\n",
        "inputs = np.array([[73, 67, 43], [91, 88, 64], [87, 134, 58],\n",
        "                   [102, 43, 37], [69, 96,70], [73,67,43],\n",
        "                   [91, 88, 64], [87, 134, 58], [102, 43, 37],\n",
        "                   [69, 96, 70], [73, 67, 43], [91, 88, 64],\n",
        "                   [87, 134, 58], [102, 43, 37], [69, 96, 70]],\n",
        "                  dtype='float32')\n",
        "\n",
        "# Targets (apples, oranges)\n",
        "targets = np.array([[56,70], [81,101], [119,133],\n",
        "                    [22, 37], [103,119], [56, 70],\n",
        "                    [81, 101], [119,133], [22, 37],\n",
        "                    [103, 119], [56,70], [81, 101],\n",
        "                    [119, 113], [22, 37], [103, 119]],\n",
        "                   dtype='float32')\n",
        "\n",
        "# convert into pyTorch tensors \n",
        "inputs = torch.from_numpy(inputs)\n",
        "targets = torch.from_numpy(targets)\n"
      ],
      "metadata": {
        "id": "xl_UiPfvGQGy"
      },
      "execution_count": 27,
      "outputs": []
    },
    {
      "cell_type": "markdown",
      "source": [
        "we are using 15 training examples this time, to illustrate how to work with large datasets in small batches.\n",
        "\n",
        "\n",
        "NB:\n",
        "Multiplying very large matrix has very high cost because it has very high time complexity like O(n^3). so it is better to work with smaller matrix. not more than 1000 rows or cols "
      ],
      "metadata": {
        "id": "_5RuG3Z8QV8D"
      }
    },
    {
      "cell_type": "markdown",
      "source": [
        "## Dataset and DataLoader\n",
        "we will create a `TensorDataSet`, which allows access to rows from `inputs` and `targets` as tuples and provides standard APIs for working with many differnt types of datasets in PyTorch"
      ],
      "metadata": {
        "id": "PSxgkh3ERibz"
      }
    },
    {
      "cell_type": "code",
      "source": [
        "\n",
        "from torch.utils.data import TensorDataset\n"
      ],
      "metadata": {
        "id": "xOTLsmVNQhsq"
      },
      "execution_count": 28,
      "outputs": []
    },
    {
      "cell_type": "code",
      "source": [
        "# Define Dataset\n",
        "\n",
        "train_ds = TensorDataset(inputs, targets)\n",
        "train_ds[[1, 3, 5, 7]]"
      ],
      "metadata": {
        "colab": {
          "base_uri": "https://localhost:8080/"
        },
        "id": "YjLzizezSV-l",
        "outputId": "dbeb2592-2e4a-49d0-ed44-f4b783f7ada1"
      },
      "execution_count": 29,
      "outputs": [
        {
          "output_type": "execute_result",
          "data": {
            "text/plain": [
              "(tensor([[ 91.,  88.,  64.],\n",
              "         [102.,  43.,  37.],\n",
              "         [ 73.,  67.,  43.],\n",
              "         [ 87., 134.,  58.]]), tensor([[ 81., 101.],\n",
              "         [ 22.,  37.],\n",
              "         [ 56.,  70.],\n",
              "         [119., 133.]]))"
            ]
          },
          "metadata": {},
          "execution_count": 29
        }
      ]
    },
    {
      "cell_type": "markdown",
      "source": [
        "The `TensorDataset` allows us to access a small section of the training data using the array indexing notation([0:3]) in the above code). It returns a tuple (or pair), in which the first element contains the input variables for the slected rows, and the second contains the targets\n",
        "\n",
        "------\n",
        "\n",
        "we'll also create a `DataLoader`, which can split the data into batches of a predefined size while training. It also provides other utilities like shuffling and random sampling of the data \n"
      ],
      "metadata": {
        "id": "UcDMcyDNY6Yp"
      }
    },
    {
      "cell_type": "code",
      "source": [
        "from torch.utils.data import DataLoader"
      ],
      "metadata": {
        "id": "gSgniq19Y5hq"
      },
      "execution_count": 30,
      "outputs": []
    },
    {
      "cell_type": "code",
      "source": [
        "# Define data loader\n",
        "batch_size = 5\n",
        "train_dl = DataLoader(train_ds, batch_size, shuffle=True)\n",
        "\n",
        "# when we set shuffle is equal true before creating batches it shuffle the data and then it creates batches after the shuffling "
      ],
      "metadata": {
        "id": "iaQAPqmISUxb"
      },
      "execution_count": 31,
      "outputs": []
    },
    {
      "cell_type": "markdown",
      "source": [
        "The data loader is typically used in a for-in loop. Let's look at an example "
      ],
      "metadata": {
        "id": "4iIfsYDehR3h"
      }
    },
    {
      "cell_type": "code",
      "source": [
        "for xb, yb in train_dl:\n",
        "  \n",
        "  print(xb)\n",
        "  print(yb)\n",
        "  break"
      ],
      "metadata": {
        "colab": {
          "base_uri": "https://localhost:8080/"
        },
        "id": "sigQ2SZ4hMzs",
        "outputId": "de5d6358-6729-4371-f226-f4d1e144069b"
      },
      "execution_count": 32,
      "outputs": [
        {
          "output_type": "stream",
          "name": "stdout",
          "text": [
            "tensor([[ 73.,  67.,  43.],\n",
            "        [ 69.,  96.,  70.],\n",
            "        [ 87., 134.,  58.],\n",
            "        [102.,  43.,  37.],\n",
            "        [ 69.,  96.,  70.]])\n",
            "tensor([[ 56.,  70.],\n",
            "        [103., 119.],\n",
            "        [119., 133.],\n",
            "        [ 22.,  37.],\n",
            "        [103., 119.]])\n"
          ]
        }
      ]
    },
    {
      "cell_type": "markdown",
      "source": [
        "In each iteration, the data loader returns one batch of data, with the given batch size. If shuffle is set to True, it shuffles the trainng data before creating batches. Shuffling hels randomize the input to the optimization algorithm, which can lead to faster reduction in the loss"
      ],
      "metadata": {
        "id": "o1VHyN8ciDAR"
      }
    },
    {
      "cell_type": "markdown",
      "source": [
        "#**nn.Linear**\n",
        "instead of initializing the weights and biases manually, we can define the model using the `nn.Linear` class from PyTorch, which does it automatically that means initializing automatically "
      ],
      "metadata": {
        "id": "aw7ATLKqiipH"
      }
    },
    {
      "cell_type": "code",
      "source": [
        "# Define model \n",
        "model = nn.Linear(3, 2)\n",
        "print(model.weight)\n",
        "print(model.bias)"
      ],
      "metadata": {
        "colab": {
          "base_uri": "https://localhost:8080/"
        },
        "id": "kH4OzPDthpBb",
        "outputId": "35a6685a-7b07-4254-b6b8-fabf669b7ee5"
      },
      "execution_count": 33,
      "outputs": [
        {
          "output_type": "stream",
          "name": "stdout",
          "text": [
            "Parameter containing:\n",
            "tensor([[ 0.2380, -0.3709, -0.4038],\n",
            "        [ 0.2242, -0.3567, -0.5048]], requires_grad=True)\n",
            "Parameter containing:\n",
            "tensor([-0.1648,  0.2509], requires_grad=True)\n"
          ]
        }
      ]
    },
    {
      "cell_type": "markdown",
      "source": [
        "PyTorch models also have a helpful parameters method, which returns a list containing all the weightsd and bias matrices present in the model. For our linear regression model, we have one weight matrix and one bias matrix."
      ],
      "metadata": {
        "id": "CMqXkKX6kT2B"
      }
    },
    {
      "cell_type": "code",
      "source": [
        "# Parameters\n",
        "list(model.parameters())"
      ],
      "metadata": {
        "colab": {
          "base_uri": "https://localhost:8080/"
        },
        "id": "oU-cWoz8jQo9",
        "outputId": "0d25e149-67d0-4dc6-dd96-b274bd08724e"
      },
      "execution_count": 34,
      "outputs": [
        {
          "output_type": "execute_result",
          "data": {
            "text/plain": [
              "[Parameter containing:\n",
              " tensor([[ 0.2380, -0.3709, -0.4038],\n",
              "         [ 0.2242, -0.3567, -0.5048]], requires_grad=True),\n",
              " Parameter containing:\n",
              " tensor([-0.1648,  0.2509], requires_grad=True)]"
            ]
          },
          "metadata": {},
          "execution_count": 34
        }
      ]
    },
    {
      "cell_type": "markdown",
      "source": [
        "we can use the model to generate predictions in the exact same way as before:"
      ],
      "metadata": {
        "id": "tlyEbJbjlhWo"
      }
    },
    {
      "cell_type": "code",
      "source": [
        "# Generate Predictions\n",
        "preds = model(inputs)\n",
        "preds"
      ],
      "metadata": {
        "colab": {
          "base_uri": "https://localhost:8080/"
        },
        "id": "kxxst36sldxa",
        "outputId": "33f43404-8ba2-43ed-c208-0802f179aaa7"
      },
      "execution_count": 35,
      "outputs": [
        {
          "output_type": "execute_result",
          "data": {
            "text/plain": [
              "tensor([[-25.0009, -28.9909],\n",
              "        [-36.9846, -43.0476],\n",
              "        [-52.5744, -57.3239],\n",
              "        [ -6.7743, -10.9006],\n",
              "        [-47.6110, -53.8616],\n",
              "        [-25.0009, -28.9909],\n",
              "        [-36.9846, -43.0476],\n",
              "        [-52.5744, -57.3239],\n",
              "        [ -6.7743, -10.9006],\n",
              "        [-47.6110, -53.8616],\n",
              "        [-25.0009, -28.9909],\n",
              "        [-36.9846, -43.0476],\n",
              "        [-52.5744, -57.3239],\n",
              "        [ -6.7743, -10.9006],\n",
              "        [-47.6110, -53.8616]], grad_fn=<AddmmBackward0>)"
            ]
          },
          "metadata": {},
          "execution_count": 35
        }
      ]
    },
    {
      "cell_type": "markdown",
      "source": [
        "# **Loss Function**\n",
        "instead of defining a loss function manually, we can use the built in loss function mse_loss"
      ],
      "metadata": {
        "id": "BAWQthrZl7O4"
      }
    },
    {
      "cell_type": "code",
      "source": [
        "# Import nn.functional \n",
        "import torch.nn.functional as F"
      ],
      "metadata": {
        "id": "w6sqkKCzluHQ"
      },
      "execution_count": 36,
      "outputs": []
    },
    {
      "cell_type": "markdown",
      "source": [
        "the nn.functional package conains many useful loss functions and several other utilities"
      ],
      "metadata": {
        "id": "UHmXd5epmvT_"
      }
    },
    {
      "cell_type": "code",
      "source": [
        "# Define loss function\n",
        "loss_fn = F.mse_loss"
      ],
      "metadata": {
        "id": "2NMyo1NSm5vQ"
      },
      "execution_count": 37,
      "outputs": []
    },
    {
      "cell_type": "markdown",
      "source": [
        "Let's compute the loss for the current predictions of our model"
      ],
      "metadata": {
        "id": "NixG7qoepJR5"
      }
    },
    {
      "cell_type": "code",
      "source": [
        ""
      ],
      "metadata": {
        "id": "pGJx2OVurUXA"
      },
      "execution_count": 37,
      "outputs": []
    }
  ]
}